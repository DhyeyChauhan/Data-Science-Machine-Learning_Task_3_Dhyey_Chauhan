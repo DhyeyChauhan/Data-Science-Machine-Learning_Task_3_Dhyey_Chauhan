{
 "cells": [
  {
   "cell_type": "code",
   "execution_count": 2,
   "id": "add12b17-7cf2-45d4-8efc-b8ad97f68830",
   "metadata": {},
   "outputs": [
    {
     "name": "stdout",
     "output_type": "stream",
     "text": [
      "Merged DataFrame:\n",
      "   TransactionID  CustomerID  ProductID  Amount CustomerName ProductName  \\\n",
      "0              1         101       1001     200        Alice      Laptop   \n",
      "1              2         102       1002     150          Bob       Phone   \n",
      "2              3         101       1003     300        Alice      Tablet   \n",
      "3              4         103       1001     100      Charlie      Laptop   \n",
      "\n",
      "      Category  \n",
      "0  Electronics  \n",
      "1  Electronics  \n",
      "2  Electronics  \n",
      "3  Electronics  \n",
      "\n",
      "Aggregated Data:\n",
      "  CustomerName     Category  TotalSales\n",
      "0        Alice  Electronics         500\n",
      "1          Bob  Electronics         150\n",
      "2      Charlie  Electronics         100\n",
      "\n",
      "Reshaped Data:\n",
      "Category      Electronics\n",
      "CustomerName             \n",
      "Alice                 500\n",
      "Bob                   150\n",
      "Charlie               100\n"
     ]
    }
   ],
   "source": [
    "#Merge and reshape data from multiple DataFrames to create complex analytical datasets.\n",
    "import pandas as pd\n",
    "\n",
    "# Sample DataFrames\n",
    "sales_data = {\n",
    "    \"TransactionID\": [1, 2, 3, 4],\n",
    "    \"CustomerID\": [101, 102, 101, 103],\n",
    "    \"ProductID\": [1001, 1002, 1003, 1001],\n",
    "    \"Amount\": [200, 150, 300, 100],\n",
    "}\n",
    "\n",
    "customers_data = {\n",
    "    \"CustomerID\": [101, 102, 103],\n",
    "    \"CustomerName\": [\"Alice\", \"Bob\", \"Charlie\"],\n",
    "}\n",
    "\n",
    "products_data = {\n",
    "    \"ProductID\": [1001, 1002, 1003],\n",
    "    \"ProductName\": [\"Laptop\", \"Phone\", \"Tablet\"],\n",
    "    \"Category\": [\"Electronics\", \"Electronics\", \"Electronics\"],\n",
    "}\n",
    "\n",
    "# Convert to DataFrames\n",
    "sales_df = pd.DataFrame(sales_data)\n",
    "customers_df = pd.DataFrame(customers_data)\n",
    "products_df = pd.DataFrame(products_data)\n",
    "\n",
    "# Merge DataFrames\n",
    "merged_df = sales_df.merge(customers_df, on=\"CustomerID\").merge(products_df, on=\"ProductID\")\n",
    "\n",
    "# Aggregate Data: Total sales per Customer and Category\n",
    "aggregated_data = (\n",
    "    merged_df.groupby([\"CustomerName\", \"Category\"])\n",
    "    .agg(TotalSales=(\"Amount\", \"sum\"))\n",
    "    .reset_index()\n",
    ")\n",
    "\n",
    "# Reshape Data: Pivot to create a Customer vs. Category table\n",
    "reshaped_data = aggregated_data.pivot(index=\"CustomerName\", columns=\"Category\", values=\"TotalSales\").fillna(0)\n",
    "\n",
    "# Print results\n",
    "print(\"Merged DataFrame:\")\n",
    "print(merged_df)\n",
    "\n",
    "print(\"\\nAggregated Data:\")\n",
    "print(aggregated_data)\n",
    "\n",
    "print(\"\\nReshaped Data:\")\n",
    "print(reshaped_data)\n"
   ]
  },
  {
   "cell_type": "code",
   "execution_count": null,
   "id": "b15161ec-23b6-4d37-961f-9e62fc6ab366",
   "metadata": {},
   "outputs": [],
   "source": []
  }
 ],
 "metadata": {
  "kernelspec": {
   "display_name": "Python 3 (ipykernel)",
   "language": "python",
   "name": "python3"
  },
  "language_info": {
   "codemirror_mode": {
    "name": "ipython",
    "version": 3
   },
   "file_extension": ".py",
   "mimetype": "text/x-python",
   "name": "python",
   "nbconvert_exporter": "python",
   "pygments_lexer": "ipython3",
   "version": "3.12.4"
  }
 },
 "nbformat": 4,
 "nbformat_minor": 5
}
